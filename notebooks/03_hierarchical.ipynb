{
 "cells": [
  {
   "cell_type": "markdown",
   "id": "3112acc5",
   "metadata": {},
   "source": [
    "# Sktime workshop: Pycon Colombia 2025 (Part 3)\n",
    "\n",
    "\n",
    "## 3.1. Loading the data"
   ]
  },
  {
   "cell_type": "code",
   "execution_count": null,
   "id": "f26a5be0",
   "metadata": {},
   "outputs": [],
   "source": [
    "from pycon_workshop.dataset import PyConWorkshopDataset\n",
    "\n",
    "dataset = PyConWorkshopDataset()"
   ]
  }
 ],
 "metadata": {
  "kernelspec": {
   "display_name": "pycon-workshop-py3.11",
   "language": "python",
   "name": "python3"
  },
  "language_info": {
   "name": "python",
   "version": "3.11.11"
  }
 },
 "nbformat": 4,
 "nbformat_minor": 5
}
